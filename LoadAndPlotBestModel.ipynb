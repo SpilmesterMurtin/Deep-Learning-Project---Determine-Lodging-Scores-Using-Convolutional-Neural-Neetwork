{
 "cells": [
  {
   "cell_type": "code",
   "execution_count": null,
   "id": "ead98724-c8e6-40f3-ad1a-24c8e2ae7aed",
   "metadata": {},
   "outputs": [],
   "source": [
    "## import numpy as np # linear algebra\n",
    "from matplotlib import pyplot as plt\n",
    "#We need these in this file:\n",
    "import sys\n",
    "sys.path.append('cropping')\n",
    "sys.path.append('scripts')\n",
    "import load_read_name_extractor as lrne\n",
    "import SVM_classifier_general as svm_general\n",
    "\n",
    "#Taget fra længere nede i koden:\n",
    "import torch\n",
    "from torchvision import transforms\n",
    "from PIL import Image\n",
    "import random\n",
    "import itertools\n",
    "import torch\n",
    "from torch.utils.data import DataLoader\n",
    "from sklearn.metrics import confusion_matrix, accuracy_score\n",
    "import numpy as np\n",
    "import DeepFunctions as df\n",
    "from random import shuffle\n",
    "from torch.utils.data import Dataset, DataLoader, random_split\n",
    "import torch\n",
    "from torch.utils.data import Dataset, DataLoader, random_split\n",
    "from sklearn.model_selection import train_test_split\n",
    "from torchvision import transforms\n",
    "from IPython.display import display\n",
    "import os\n",
    "import json\n",
    "import torch.optim as optim\n",
    "from torch.optim.lr_scheduler import ReduceLROnPlateau\n",
    "import torch\n",
    "import torch.nn as nn\n",
    "import torch.nn.functional as F"
   ]
  },
  {
   "cell_type": "code",
   "execution_count": null,
   "id": "a0bb92cb-1e44-40fd-84ab-1a733e064c01",
   "metadata": {},
   "outputs": [],
   "source": [
    "# Call the function to list GPU names\n",
    "df.list_gpu_names()\n",
    "#R\n",
    "device = torch.device(\"cuda:0\" if torch.cuda.is_available() else \"cpu\")\n",
    "print(device)"
   ]
  },
  {
   "cell_type": "code",
   "execution_count": null,
   "id": "1f1a04f9-1d37-4f33-9115-c56c7bdc3ac2",
   "metadata": {},
   "outputs": [],
   "source": [
    "trainDataloader = torch.load('data/train_loader.pth')\n",
    "valDataloader = torch.load('data/val_loader.pth')\n",
    "testDataloader = torch.load('data/test_loader.pth')\n",
    "lenthdataset = torch.load('data/lengthsdataset.pth')"
   ]
  },
  {
   "cell_type": "code",
   "execution_count": null,
   "id": "68521372-397b-46de-b642-7a14de5a3d2b",
   "metadata": {},
   "outputs": [],
   "source": [
    "bestnet = NeuralNetwork()\n",
    "path_model = \"models/best_model_state_Acc_0.704_epoch_133.0.pt\"\n",
    "path_result = \"results/0.0008_0_5_0.1_0.3_71.65%_results.json\"\n",
    "bestnet.load_state_dict(torch.load(path_model))\n",
    "bestnet.to(device)"
   ]
  },
  {
   "cell_type": "code",
   "execution_count": null,
   "id": "199d1472-6a09-4c90-9769-cee5a6da650b",
   "metadata": {},
   "outputs": [],
   "source": [
    "cm1, acc1 = df.create_confusion_matrix(trainDataloader, bestnet, device=device)\n",
    "title1 = 'Confusion matrix for training set'\n",
    "\n",
    "cm2, acc2 = df.create_confusion_matrix(valDataloader, bestnet, device=device)\n",
    "title2 = 'Confusion matrix for validation set'\n",
    "\n",
    "cm3, acc3 = df.create_confusion_matrix(testDataloader, bestnet, device=device)\n",
    "title3 = 'Confusion matrix for test set'\n",
    "\n",
    "df.plot_3_confusion_matrices(cm1, cm2, cm3, acc1, acc2, acc3, num_classes, title1, title2, title3)"
   ]
  },
  {
   "cell_type": "code",
   "execution_count": null,
   "id": "241a0c7f-e855-4c8f-a3a4-f90d1a8334b3",
   "metadata": {},
   "outputs": [],
   "source": [
    "df.plot_loss_and_accuracy(df.transfer_to_cpu(trainLossList), df.transfer_to_cpu(trainAccList), df.transfer_to_cpu(valLossList), df.transfer_to_cpu(valAccList))"
   ]
  }
 ],
 "metadata": {
  "kernelspec": {
   "display_name": "Python 3 (ipykernel)",
   "language": "python",
   "name": "python3"
  },
  "language_info": {
   "codemirror_mode": {
    "name": "ipython",
    "version": 3
   },
   "file_extension": ".py",
   "mimetype": "text/x-python",
   "name": "python",
   "nbconvert_exporter": "python",
   "pygments_lexer": "ipython3",
   "version": "3.9.12"
  }
 },
 "nbformat": 4,
 "nbformat_minor": 5
}
